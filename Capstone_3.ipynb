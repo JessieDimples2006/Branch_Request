{
  "nbformat": 4,
  "nbformat_minor": 0,
  "metadata": {
    "colab": {
      "name": "Capstone_3.ipynb",
      "provenance": [],
      "collapsed_sections": [],
      "toc_visible": true,
      "authorship_tag": "ABX9TyP1mWD7DxdIX9Y3eEbUSbY/",
      "include_colab_link": true
    },
    "kernelspec": {
      "display_name": "Python 3",
      "name": "python3"
    }
  },
  "cells": [
    {
      "cell_type": "markdown",
      "metadata": {
        "id": "view-in-github",
        "colab_type": "text"
      },
      "source": [
        "<a href=\"https://colab.research.google.com/github/JessieDimples2006/Branch_Request/blob/Master_Branch/Capstone_3.ipynb\" target=\"_parent\"><img src=\"https://colab.research.google.com/assets/colab-badge.svg\" alt=\"Open In Colab\"/></a>"
      ]
    },
    {
      "cell_type": "markdown",
      "metadata": {
        "id": "LSBFkHPhj3dY"
      },
      "source": [
        "***Agriculture and Vertical Growth***\r\n",
        "--------------------------------------------------------------------------------\r\n",
        "--------------------------------------------------------------------------------\r\n",
        "Objective: To analyze the data found on FAO to discover if we can sustain production of key resources for an ever-growing population, while we are losing land to commercial and residential zone's to compensate for the worlds growing population.\r\n",
        "\r\n",
        "This analysis is useful to every person in the industry. From, Stakeholders, to Farmer's to the people working in the Field. We can all gain insight.\r\n",
        "\r\n",
        "For this analysis we will be using data that can be found at the FAO website. \r\n",
        "In today's world there are 4 countries that are the top producers for the world’s food. (2) These countries are: The United States of America, China, Brazil, and India. We will be using the two largest producers of the world’s food supply, China and The United States of America.\r\n",
        "\r\n",
        "We currently produce enough food for 10 billion people. Yet worldwide each year we waste 1/3 of all food produced for human consumption. (1) Which includes 45% of all Fruits and Vegetables, 35% of fish and seafood, 30% of cereals, 20% of all dairy products and 20% of all meat. Which equates to 1.3 billion tons and comes to an estimated total of $1 Trillion dollars.\r\n",
        "\r\n"
      ]
    },
    {
      "cell_type": "markdown",
      "metadata": {
        "id": "u_A_jU3oyvTl"
      },
      "source": [
        "# ***Agriculture Facts***\r\n",
        "-------------------------------------------------------------------------------\r\n",
        "Land that was previously used for crop production, is now being used for commercial and residential purposes. The Agriculture industry is having to come up with innovitive ways to circumvent the issue. Is it working?\r\n",
        "Can we support the worlds ever increasing population?\r\n",
        "\r\n",
        "Agriculture in America\r\n",
        "\r\n",
        "As it stands right now 10% of the worlds arable land is in America. As it stands right now for the US, only 17% of our land is ideal for farming, yet we are losing 9.5 acres every minute (3).  From 1992-2012 a total amount of 11 million acres, was developed for either residential or commercial purposes.\r\n",
        "\r\n",
        "Agriculture in China\r\n",
        "\r\n",
        "China faces its own problems in the industry. In 2017 China's arable land fell to 134.86 million hectares. Of availabe arable land in China only 1.2% of it supports crop life. China has to feed nearly a quarter of the worlds population, with only 7% of it available land able to be used.\r\n",
        "China has around 3.33 million acres that was deemed to polluted to grow crops, and another 10 million hectares that are contaminated by heavy meatals.\r\n"
      ]
    },
    {
      "cell_type": "markdown",
      "metadata": {
        "id": "t45-KYYvkXhe"
      },
      "source": [
        "##*Import Information and declaring Data Frames*"
      ]
    },
    {
      "cell_type": "markdown",
      "metadata": {
        "id": "2CbTjYVgzDtv"
      },
      "source": [
        "Library Import"
      ]
    },
    {
      "cell_type": "code",
      "metadata": {
        "id": "Cfsyq332ydJu"
      },
      "source": [
        "import pandas as pd\r\n",
        "import math\r\n",
        "from scipy import stats\r\n",
        "import seaborn as sns \r\n",
        "sns.set()"
      ],
      "execution_count": null,
      "outputs": []
    },
    {
      "cell_type": "markdown",
      "metadata": {
        "id": "liP_dFT-zMIX"
      },
      "source": [
        "Mount Google drive"
      ]
    },
    {
      "cell_type": "code",
      "metadata": {
        "id": "Jb14m3kkzPD8"
      },
      "source": [
        "from google.colab import drive\r\n",
        "drive.mount('/content/gdrive')"
      ],
      "execution_count": null,
      "outputs": []
    },
    {
      "cell_type": "markdown",
      "metadata": {
        "id": "XtEG8_kVzkhM"
      },
      "source": [
        "Read Excel Sheets into seperate DataFrames"
      ]
    },
    {
      "cell_type": "code",
      "metadata": {
        "id": "sUY4O__u0ICS"
      },
      "source": [
        "eggs = pd.read_excel(r'/content/gdrive/MyDrive/School Work/China_USA_2.xlsx',\r\n",
        "                     sheet_name = 'Eggs')\r\n",
        "crops = pd.read_excel(r'/content/gdrive/MyDrive/School Work/China_USA_2.xlsx',\r\n",
        "                      sheet_name = 'Crops')\r\n",
        "meats = pd.read_excel(r'/content/gdrive/MyDrive/School Work/China_USA_2.xlsx',\r\n",
        "                      sheet_name = 'Meats')\r\n",
        "population = pd.read_excel(r'/content/gdrive/MyDrive/School Work/China_USA_2.xlsx', \r\n",
        "                           sheet_name = 'Population')\r\n",
        "prices = pd.read_excel(r'/content/gdrive/MyDrive/School Work/China_USA_2.xlsx',\r\n",
        "                       sheet_name = 'Producer_Prices')\r\n",
        "yields = pd.read_excel(r'/content/gdrive/MyDrive/School Work/China_USA_2.xlsx',\r\n",
        "                       sheet_name = 'Yields')\r\n",
        "area = pd.read_excel(r'/content/gdrive/MyDrive/School Work/China_USA_2.xlsx',\r\n",
        "                       sheet_name = 'Area')\r\n",
        "milk = pd.read_excel(r'/content/gdrive/MyDrive/School Work/China_USA_2.xlsx',\r\n",
        "                       sheet_name = 'Milk')\r\n",
        "cereal = pd.read_excel(r'/content/gdrive/MyDrive/School Work/China_USA_2.xlsx',\r\n",
        "                       sheet_name = 'Cereal')"
      ],
      "execution_count": null,
      "outputs": []
    },
    {
      "cell_type": "code",
      "metadata": {
        "id": "FyfyX43BYfU0"
      },
      "source": [
        "eggs_df = pd.DataFrame(eggs)\r\n",
        "population_df = pd.DataFrame(population)\r\n",
        "meats_df = pd.DataFrame(meats)\r\n",
        "crops_df = pd.DataFrame(crops)\r\n",
        "yields_df = pd.DataFrame(yields)\r\n",
        "area_df = pd.DataFrame(area)\r\n",
        "prices_df = pd.DataFrame(prices)\r\n",
        "milk_df = pd.DataFrame(milk)\r\n",
        "cereal_df = pd.DataFrame(cereal)"
      ],
      "execution_count": null,
      "outputs": []
    },
    {
      "cell_type": "markdown",
      "metadata": {
        "id": "Jp0Fhqi4dSV2"
      },
      "source": [
        "##*Functions*\r\n",
        "----------------------------------------------------------------------------------------------------------------------------------------------------------------\r\n",
        "*_Functions That will be called throughout the notebook._*"
      ]
    },
    {
      "cell_type": "code",
      "metadata": {
        "id": "1b9K8i78NNk_"
      },
      "source": [
        "def descript_df(array):\r\n",
        "  s = array.shape,\r\n",
        "  i = array.info(),\r\n",
        "  d = array.describe(),\r\n",
        "  e = array. isnull().sum(),\r\n",
        "  return s , i , d , e"
      ],
      "execution_count": null,
      "outputs": []
    },
    {
      "cell_type": "code",
      "metadata": {
        "id": "hHn7Kv_qRDQa"
      },
      "source": [
        "def descript_col(array):\r\n",
        "  d = array.describe(),\r\n",
        "  e = array.isnull()\r\n",
        "  return d,e"
      ],
      "execution_count": null,
      "outputs": []
    },
    {
      "cell_type": "code",
      "metadata": {
        "id": "Zk1-TmIPwIwq"
      },
      "source": [
        "def get_ci(array1, array2):\r\n",
        "  description1 = array1.describe()\r\n",
        "  description2 = array2.describe()\r\n",
        "  results = stats.ttest_ind(array1, array2)\r\n",
        "  sample_1_size = array1.count()\r\n",
        "  sample_2_size = array2.count()\r\n",
        "  sample_1_mean = array1.mean()\r\n",
        "  sample_2_mean =array2.mean()\r\n",
        "  sample_1_var = array1.var()\r\n",
        "  sample_2_var = array2.var()\r\n",
        "  mean_diff = sample_2_mean - sample_1_mean\r\n",
        "  std_error = math.sqrt((sample_1_var/sample_1_size)+ (sample_2_var/sample_2_size))\r\n",
        "  con_in = 1.96*std_error\r\n",
        "  lower_ci = mean_diff - con_in\r\n",
        "  upper_ci = mean_diff + con_in\r\n",
        "  return(\"Descriptive Stats for the USA are:\",\r\n",
        "         \"{}\".format(description1),\r\n",
        "         \"The descriptive stats for China are:\",\r\n",
        "         \"{}\".format(description2),                                  \r\n",
        "         \"The count for USA : \" + str(sample_1_size),\r\n",
        "         \"The count for China \" + str(sample_2_size),\r\n",
        "         \"The mean for the USA is \" + str(sample_1_mean),\r\n",
        "         \"The mean for China is  \" + str(sample_2_mean),\r\n",
        "         \"The Variance for the USA is  \" + str(sample_1_var),\r\n",
        "         \"The Variance for China is \" + str(sample_2_var),\r\n",
        "         \"The Mean difference is: \" + str(mean_diff),\r\n",
        "         \"The Standard Error of Difference is: \" + str(std_error),\r\n",
        "         \"The Confidence interval is: \" +  str(con_in),\r\n",
        "         \"The lower and upper parameters for the mean are: \" + str(lower_ci) + ' and '  + str(upper_ci),\r\n",
        "         \"The difference in means is at the 95% Confidence level, and (two-tail) is between \" + str(lower_ci) + \" and \" + str(upper_ci))"
      ],
      "execution_count": null,
      "outputs": []
    },
    {
      "cell_type": "code",
      "metadata": {
        "id": "iiGMsgCwbZwk"
      },
      "source": [
        "def get_info(array1):\r\n",
        "  description1 = array1.describe()\r\n",
        "  sample_1_size = array1.count()\r\n",
        "  sample_1_mean = array1.mean()\r\n",
        "  sample_1_var = array1.var()\r\n",
        "  std_error = math.sqrt(sample_1_var/sample_1_size)\r\n",
        "  return  (sample_1_size,\r\n",
        "           sample_1_var,\r\n",
        "           sample_1_mean,\r\n",
        "           description1)"
      ],
      "execution_count": null,
      "outputs": []
    },
    {
      "cell_type": "code",
      "metadata": {
        "id": "RjgL4rJhSepk"
      },
      "source": [
        "def test(array, array2):\r\n",
        "  x = stats.ttest_ind(array, array2)\r\n",
        "  return x"
      ],
      "execution_count": null,
      "outputs": []
    },
    {
      "cell_type": "code",
      "metadata": {
        "id": "MUuTAg8kJgfm"
      },
      "source": [
        "def linegraph(array1, array1y, array2, array2y):\r\n",
        "  x = sns.lineplot(y=array1, x=array1y),\r\n",
        "  b = sns.lineplot(y = array2, x=array2y)\r\n",
        "  return x, b"
      ],
      "execution_count": null,
      "outputs": []
    },
    {
      "cell_type": "code",
      "metadata": {
        "id": "l4kFIvxcL_rl"
      },
      "source": [
        "def disgraph(array, array2):\r\n",
        "  x = sns.histplot(array),\r\n",
        "  y = sns.histplot(array2)\r\n",
        "  return x, y"
      ],
      "execution_count": null,
      "outputs": []
    },
    {
      "cell_type": "code",
      "metadata": {
        "id": "vIoz9n8uS67o"
      },
      "source": [
        "def scatter(array, array2, array3, array4):\r\n",
        "  x = sns.scatterplot(y = array, x = array2)\r\n",
        "  y = sns.scatterplot(y= array3, x = array4)\r\n",
        "  return x, y"
      ],
      "execution_count": null,
      "outputs": []
    },
    {
      "cell_type": "code",
      "metadata": {
        "id": "77FO8zoombGZ"
      },
      "source": [
        "def hisgraph(array):\r\n",
        "  x = sns.histplot(array)\r\n",
        "  return x"
      ],
      "execution_count": null,
      "outputs": []
    },
    {
      "cell_type": "code",
      "metadata": {
        "id": "Za1_NK_wr2o3"
      },
      "source": [
        "def box(varray, yarray,cvarray,cyarray):\r\n",
        "  a = sns.boxplot(y=varray, x= yarray)\r\n",
        "  b = sns.boxplot(y=cvarray, x=cyarray)\r\n",
        "  return a , b"
      ],
      "execution_count": null,
      "outputs": []
    },
    {
      "cell_type": "markdown",
      "metadata": {
        "id": "NoZdKetBdVG2"
      },
      "source": [
        "#***Population*** \r\n",
        "--------------------------------------------------------------------------------\r\n",
        "The world's population is a contrbuting factor for the need to develop land that was used for crop production. It's also a contributing factor to pollution, and a whole slew of other issues. \r\n",
        "But is the driving force for the need to circumvent decreasing quality land available for production of necessary resources.\r\n",
        "Lets take a look at population's for China and the USA. \r\n",
        "\r\n",
        "Each single value is equal to 1,000.\r\n",
        "1:1,000"
      ]
    },
    {
      "cell_type": "markdown",
      "metadata": {
        "id": "xMQf6KmaGKHj"
      },
      "source": [
        "##*Population*\r\n",
        "-------------------------------------------------------------------------------\r\n",
        "Population Hypothesis:\r\n",
        "\r\n",
        "Null Hypothesis: The mean's are equal.\r\n",
        "\r\n",
        "Alternative Hypothesis: The mean's are not equal.\r\n"
      ]
    },
    {
      "cell_type": "code",
      "metadata": {
        "id": "y-yRgyCnGOmd"
      },
      "source": [
        "descript_df(population_df)"
      ],
      "execution_count": null,
      "outputs": []
    },
    {
      "cell_type": "code",
      "metadata": {
        "id": "9SDYurZOGTvM"
      },
      "source": [
        "descript_col(population_df['US.pop.Value'])"
      ],
      "execution_count": null,
      "outputs": []
    },
    {
      "cell_type": "code",
      "metadata": {
        "id": "Lkm0B6TRGo4b"
      },
      "source": [
        "descript_col(population_df['C.pop.Value'])"
      ],
      "execution_count": null,
      "outputs": []
    },
    {
      "cell_type": "markdown",
      "metadata": {
        "id": "oRLqwmC4G1XO"
      },
      "source": [
        "##*Population Results*"
      ]
    },
    {
      "cell_type": "code",
      "metadata": {
        "id": "1KPIF5A4HOS1"
      },
      "source": [
        "test((population_df.dropna()['US.pop.Value']), (population_df.dropna()['C.pop.Value']))"
      ],
      "execution_count": null,
      "outputs": []
    },
    {
      "cell_type": "markdown",
      "metadata": {
        "id": "mFbn8CTr3YuY"
      },
      "source": [
        "We reject the Null hypothesis, as expected, we can expect the population's to continue to grow. we can expect to see differences with even more extreme numbers. China leads the US for population totals and is expected to continue to do so. \r\n",
        "In 2019 China's population was reported to contribute to the world's total population by 18.9%, with an astonishing amount od 1,433,783,686. While the United States came in with a controbution of 4.3% of the worlds population. With a reported total of 329,064,917.(4)"
      ]
    },
    {
      "cell_type": "code",
      "metadata": {
        "cellView": "form",
        "id": "2-hWB1jQGxgN"
      },
      "source": [
        "#@title\n",
        "get_ci(population_df['US.pop.Value'], population_df['C.pop.Value'])"
      ],
      "execution_count": null,
      "outputs": []
    },
    {
      "cell_type": "markdown",
      "metadata": {
        "id": "lzu5vXMP_v34"
      },
      "source": [
        "##*Graphs*\r\n",
        "--------------------------------------------------------------------------------\r\n",
        "Population Data Frame"
      ]
    },
    {
      "cell_type": "code",
      "metadata": {
        "id": "x7b3cTv6AE0F"
      },
      "source": [
        "linegraph(population_df['US.pop.Value'],population_df['US.pop.Year'], population_df['C.pop.Value'], population_df['C.pop.Year'])"
      ],
      "execution_count": null,
      "outputs": []
    },
    {
      "cell_type": "code",
      "metadata": {
        "id": "Ap9FVe7zBZ7m"
      },
      "source": [
        "sns.boxplot(y=population_df['US.pop.Value'], x=population_df['US.pop.Year'])\r\n",
        "sns.boxplot(y=population_df['C.pop.Value'], x=population_df['C.pop.Year'])"
      ],
      "execution_count": null,
      "outputs": []
    },
    {
      "cell_type": "markdown",
      "metadata": {
        "id": "rShfe2vb0Bvw"
      },
      "source": [
        "#**Animal By-Product Yields**\r\n",
        "--------------------------------------------------------------------------------\r\n",
        "Summary of animal by-products produced in China and the United States of America.\r\n",
        "Animal by-products, is defined by the USDA, as \"products harvested or manufactured from livestock other than muscle meat  for instance, wool, and eggs.\r\n",
        "With China and the USA being some of the largest producers of eggs, and with China being one of the worlds top 8 countries that have a high annual average of egg consumption per person. Japan is the leader, with an annual average for one person at 320 eggs.  "
      ]
    },
    {
      "cell_type": "markdown",
      "metadata": {
        "id": "wzJaAvL2LdyB"
      },
      "source": [
        "*_Egg Production Hypothesis:_*\r\n",
        "--------------------------------------------------------------------------------\r\n",
        "\r\n",
        "*_Null hypothesis:_* The mean for egg yield, is equal.\r\n",
        "\r\n",
        "*_Alternative hypothesis:_* The mean for egg yield is not equal.\r\n",
        "\r\n",
        "_For this analysis, we are going to take a look at the number of eggs produced in both the US and China. Eggs are a source of protein and a food that is seen for breakfast, lunch and dinner around the world._ \r\n",
        "\r\n"
      ]
    },
    {
      "cell_type": "code",
      "metadata": {
        "id": "-KQFj-GvPXny"
      },
      "source": [
        "descript_df(eggs_df)"
      ],
      "execution_count": null,
      "outputs": []
    },
    {
      "cell_type": "code",
      "metadata": {
        "id": "zQsyvuSx58lU"
      },
      "source": [
        "descript_col(eggs_df['Value.Egg.US'])"
      ],
      "execution_count": null,
      "outputs": []
    },
    {
      "cell_type": "code",
      "metadata": {
        "id": "XtSoEcsh6OZ9"
      },
      "source": [
        "descript_col(eggs_df['Value.Egg.C'])"
      ],
      "execution_count": null,
      "outputs": []
    },
    {
      "cell_type": "markdown",
      "metadata": {
        "id": "gY9PBrTD6Fie"
      },
      "source": [
        "##*Results*"
      ]
    },
    {
      "cell_type": "markdown",
      "metadata": {
        "id": "8-FNR11E6Cv-"
      },
      "source": [
        "T-Test"
      ]
    },
    {
      "cell_type": "code",
      "metadata": {
        "id": "IM8WhzsJ2LAS"
      },
      "source": [
        "test(eggs_df['Value.Egg.US'], eggs_df['Value.Egg.C'])"
      ],
      "execution_count": null,
      "outputs": []
    },
    {
      "cell_type": "markdown",
      "metadata": {
        "id": "dcpNKyRP6-hk"
      },
      "source": [
        "We reject the Null hypothesis. There is a signficant difference in the mean's. We would see even more extreme difference in mean's if we included all the countries. "
      ]
    },
    {
      "cell_type": "code",
      "metadata": {
        "id": "M3S6lB1L2tKe"
      },
      "source": [
        "get_ci(eggs_df['Value.Egg.US'], eggs_df['Value.Egg.C'])"
      ],
      "execution_count": null,
      "outputs": []
    },
    {
      "cell_type": "markdown",
      "metadata": {
        "id": "qqm-IKAjAf25"
      },
      "source": [
        "##***Graphs***\r\n",
        "*Egg Yield*"
      ]
    },
    {
      "cell_type": "code",
      "metadata": {
        "id": "rw8jprOmMZ_I"
      },
      "source": [
        "disgraph(eggs_df['Value.Egg.US'],eggs_df['Value.Egg.C'])"
      ],
      "execution_count": null,
      "outputs": []
    },
    {
      "cell_type": "code",
      "metadata": {
        "id": "U_XQ8X-FKfHf"
      },
      "source": [
        "linegraph(eggs_df['Value.Egg.US'], eggs_df['Year.Egg.US'], eggs_df['Value.Egg.C'], eggs_df['Year.Egg.C'])"
      ],
      "execution_count": null,
      "outputs": []
    },
    {
      "cell_type": "markdown",
      "metadata": {
        "id": "HifmHpIHEOf-"
      },
      "source": [
        "Population and Egg Production "
      ]
    },
    {
      "cell_type": "code",
      "metadata": {
        "id": "M4Z5O3GZCQyM"
      },
      "source": [
        "sns.lineplot(y=eggs_df['Value.Egg.US'], x= eggs_df['Year.Egg.US'])\r\n",
        "sns.lineplot(y= population_df['US.pop.Value'], x = population_df['US.pop.Year'])\r\n",
        "sns.lineplot(y=population_df['C.pop.Value'], x=population_df['C.pop.Year'])\r\n",
        "sns.lineplot(y= eggs_df['Value.Egg.C'], x=eggs_df['Year.Egg.C'])"
      ],
      "execution_count": null,
      "outputs": []
    },
    {
      "cell_type": "code",
      "metadata": {
        "id": "cXM2lAwCzTjt"
      },
      "source": [
        "box(population_df['US.pop.Value'],  population_df['US.pop.Year'], eggs_df['Value.Egg.US'], eggs_df['Year.Egg.US'])"
      ],
      "execution_count": null,
      "outputs": []
    },
    {
      "cell_type": "code",
      "metadata": {
        "id": "T2SuezXcztjQ"
      },
      "source": [
        "box(population_df['C.pop.Value'],  population_df['C.pop.Year'], eggs_df['Value.Egg.C'], eggs_df['Year.Egg.C'])"
      ],
      "execution_count": null,
      "outputs": []
    },
    {
      "cell_type": "markdown",
      "metadata": {
        "id": "Jv6DWF9VeBNA"
      },
      "source": [
        "#**Meats**\r\n",
        "--------------------------------------------------------------------------------\r\n",
        "Now we will examine meat totals for the USA and China. For an ever-growing economy meat production should increase.\r\n",
        "With China and the USA being top meat producer’s, we should not be able to reject the null hypothesis, as we are comparing top meat  producers in the world. \r\n",
        "In 2019 China produced around 90,000,000 metric tons of meat, followed by the United States who produced 48,000,000 metric tons of meat.  "
      ]
    },
    {
      "cell_type": "markdown",
      "metadata": {
        "id": "wMjWf-xhB0tY"
      },
      "source": [
        "##*Meat for Human Consumption*\r\n",
        "\r\n",
        "\r\n",
        "---\r\n",
        "\r\n",
        "\r\n",
        "*Null Hypothesis:* The means for each country are equal.\r\n",
        "\r\n",
        "*Alternative Hypothesis:* The means are not equal.\r\n",
        "\r\n",
        "\r\n",
        " \r\n",
        "                                                     \r\n",
        "*This total represents the number of animals slaughtered for human consumption*\r\n"
      ]
    },
    {
      "cell_type": "code",
      "metadata": {
        "id": "kI95kfgrei89"
      },
      "source": [
        "descript_df(meats_df)"
      ],
      "execution_count": null,
      "outputs": []
    },
    {
      "cell_type": "code",
      "metadata": {
        "id": "2l07rXu_B_rJ"
      },
      "source": [
        "descript_col(meats_df['Value.Meat.US'])"
      ],
      "execution_count": null,
      "outputs": []
    },
    {
      "cell_type": "code",
      "metadata": {
        "id": "ynsXcP6XbA_6"
      },
      "source": [
        "descript_col(meats_df['Value.M.C'])"
      ],
      "execution_count": null,
      "outputs": []
    },
    {
      "cell_type": "markdown",
      "metadata": {
        "id": "iGGjQvYNm-BM"
      },
      "source": [
        "##*Results*\r\n",
        "------------------------------------------------------------\r\n",
        "*Meat Data Frame*\r\n"
      ]
    },
    {
      "cell_type": "code",
      "metadata": {
        "id": "bQR84lmbFNlI"
      },
      "source": [
        "test(meats_df.dropna()['Value.Meat.US'], meats_df.dropna()['Value.M.C'])"
      ],
      "execution_count": null,
      "outputs": []
    },
    {
      "cell_type": "markdown",
      "metadata": {
        "id": "9MmT5kXg48E9"
      },
      "source": [
        "With a P-Value of .0003, We reject the null hypothesis with a P-value less than .05, there is a signficant difference in the means. "
      ]
    },
    {
      "cell_type": "code",
      "metadata": {
        "id": "y2Ssu8-Q57mA"
      },
      "source": [
        "get_ci(meats_df.dropna()['Value.Meat.US'], meats_df.dropna()['Value.M.C'])"
      ],
      "execution_count": null,
      "outputs": []
    },
    {
      "cell_type": "markdown",
      "metadata": {
        "id": "jkBt9b0_4mD6"
      },
      "source": [
        "##*Graphs*\r\n",
        "--------------------------------------------------------------------------------\r\n",
        "*Meat Data Frame*"
      ]
    },
    {
      "cell_type": "markdown",
      "metadata": {
        "id": "_TKnezMo6jEG"
      },
      "source": [
        "Meats over time with China being represented with an orange line and the US with the blue line"
      ]
    },
    {
      "cell_type": "code",
      "metadata": {
        "id": "S_YM30GP4rBp"
      },
      "source": [
        "linegraph(meats_df.dropna()['Value.Meat.US'], meats_df.dropna()['Year.M.US'],meats_df.dropna()['Value.M.C'],meats_df.dropna()['Year.M.C'])"
      ],
      "execution_count": null,
      "outputs": []
    },
    {
      "cell_type": "markdown",
      "metadata": {
        "id": "ufe0R-LdeP_y"
      },
      "source": [
        "#***Land Use***\r\n",
        "--------------------------------------------------------------------------------\r\n",
        "With the ever-increasing population, our available amount of land is declining. Land is being rezoned, for either commercial or residential use. Soil is being contaminated or rezoned.\r\n",
        "\r\n",
        "\r\n",
        "As of 2018 the USA loses 9.5 acres of farmland every minute. With China on the verge of losing millions of hectares of arable land due to heavy metal pollution. The world faces many problem's when producing our resources.\r\n",
        "We still need to produce enough food for our growing population. Can we do this even though we are losing farmland.\r\n",
        "\r\n",
        "\r\n",
        "By using vertical farming, which is defined as \"the practice of growing produce in vertically stacked layers. The practice can use soil, hydroponic or aeroponic growing methods. Vertical farms attempt to produce food in challenging environments, like where arable land is rare or unavailable. (5) without vertical farming we already produce enough food for 10 Billion people, but due to waste, we cannot feed 10 billion people.\r\n",
        " \r\n"
      ]
    },
    {
      "cell_type": "markdown",
      "metadata": {
        "id": "tdWNwqtD-L3c"
      },
      "source": [
        "##*Farm Land*\r\n",
        "--------------------------------------------------------------------------------\r\n",
        "*Null Hypothesis:* The means are equal\r\n",
        "\r\n",
        "*Alternative Hypothesis:* The means are not equal.\r\n",
        "\r\n",
        "Summary amount of Area, used for crop production\r\n"
      ]
    },
    {
      "cell_type": "code",
      "metadata": {
        "id": "W8QYV1sB-pZg"
      },
      "source": [
        "descript_df(area_df)"
      ],
      "execution_count": null,
      "outputs": []
    },
    {
      "cell_type": "code",
      "metadata": {
        "id": "esKAOOJ6-2KE"
      },
      "source": [
        "descript_col(area_df['US.Area.Value'])"
      ],
      "execution_count": null,
      "outputs": []
    },
    {
      "cell_type": "code",
      "metadata": {
        "id": "PDc_0HZR-110"
      },
      "source": [
        "descript_col(area_df['C.Area.Value'])"
      ],
      "execution_count": null,
      "outputs": []
    },
    {
      "cell_type": "markdown",
      "metadata": {
        "id": "kI3Bb6SG_RhS"
      },
      "source": [
        "##*Results*\r\n",
        "--------------------------------------------------------------------------------\r\n",
        "_Farm Land Area_"
      ]
    },
    {
      "cell_type": "code",
      "metadata": {
        "id": "76iqZ4Yj_77R"
      },
      "source": [
        "test(area_df.dropna()['US.Area.Value'], area_df.dropna()['C.Area.Value'])"
      ],
      "execution_count": null,
      "outputs": []
    },
    {
      "cell_type": "markdown",
      "metadata": {
        "id": "0dVSq6BFDGgU"
      },
      "source": [
        "We fail to reject the Null hypothesis. with a P-Value greater than .05. the difference in means is not signficant."
      ]
    },
    {
      "cell_type": "code",
      "metadata": {
        "id": "UfCCrdrv_mQR"
      },
      "source": [
        "get_ci(area_df.dropna()['US.Area.Value'], area_df.dropna()['C.Area.Value'])"
      ],
      "execution_count": null,
      "outputs": []
    },
    {
      "cell_type": "markdown",
      "metadata": {
        "id": "eL5XrE4H-6g7"
      },
      "source": [
        "##*Graphs*\r\n",
        "--------------------------------------------------------------------------------\r\n",
        "Land used for Farm Production"
      ]
    },
    {
      "cell_type": "code",
      "metadata": {
        "id": "ra1Xga8r_Tn2"
      },
      "source": [
        "linegraph(area_df.dropna()['US.Area.Value'], area_df.dropna()['US.Area.Year'],area_df.dropna()['C.Area.Value'], area_df.dropna()['C.Area.Year'])"
      ],
      "execution_count": null,
      "outputs": []
    },
    {
      "cell_type": "markdown",
      "metadata": {
        "id": "zhKBffigee6x"
      },
      "source": [
        "#***Crops Production***\r\n",
        "--------------------------------------------------------------------------------\r\n",
        "Crop Production is defined as the process of growing crops for domestic and commercial purposes. \r\n",
        "\r\n",
        "Crop production is related to harvested areas, returns per hectare and quantities produced. our data here relates to crops grown mainly for human consumption.\r\n",
        "\r\n",
        "Crop production is measured in tonnes per hectare, in thousand hectares and thousand tonnes. "
      ]
    },
    {
      "cell_type": "markdown",
      "metadata": {
        "id": "jkU9AzftGoHH"
      },
      "source": [
        "##*Production*\r\n",
        "--------------------------------------------------------------------------------\r\n",
        "\r\n",
        "\r\n",
        "*Crop Data Frame*\r\n"
      ]
    },
    {
      "cell_type": "code",
      "metadata": {
        "id": "zF2YW5rsnb86"
      },
      "source": [
        "crops_df.head()"
      ],
      "execution_count": null,
      "outputs": []
    },
    {
      "cell_type": "code",
      "metadata": {
        "id": "DLM_7UBHGsCQ"
      },
      "source": [
        "descript_df(crops_df.dropna())"
      ],
      "execution_count": null,
      "outputs": []
    },
    {
      "cell_type": "code",
      "metadata": {
        "id": "XJcrnKvGGz4q"
      },
      "source": [
        "descript_col(crops_df.dropna()['US.Crop.Pro.Value'])"
      ],
      "execution_count": null,
      "outputs": []
    },
    {
      "cell_type": "code",
      "metadata": {
        "id": "K7vd7qoBG4ud"
      },
      "source": [
        "descript_col(crops_df.dropna()['C.Crop.Pro.Value'])"
      ],
      "execution_count": null,
      "outputs": []
    },
    {
      "cell_type": "markdown",
      "metadata": {
        "id": "fOsQUQ9NoyRU"
      },
      "source": [
        "##*Results*\r\n",
        "--------------------------------------------------------------------------------\r\n",
        "*Crop Production Data Frame*"
      ]
    },
    {
      "cell_type": "code",
      "metadata": {
        "id": "mfyUAD2XFmM-"
      },
      "source": [
        "test(crops_df.dropna()['US.Crop.Pro.Value'], crops_df.dropna()['C.Crop.Pro.Value'])"
      ],
      "execution_count": null,
      "outputs": []
    },
    {
      "cell_type": "markdown",
      "metadata": {
        "id": "XPDfXapTF2ON"
      },
      "source": [
        "We fail to reject the null hypothesis. With a P-Value greater than .05, there is currently not a signficant difference in the means. "
      ]
    },
    {
      "cell_type": "code",
      "metadata": {
        "id": "wa-Ibf3Jo2qq"
      },
      "source": [
        "get_ci(crops_df.dropna()['US.Crop.Pro.Value'], crops_df.dropna()['C.Crop.Pro.Value'])"
      ],
      "execution_count": null,
      "outputs": []
    },
    {
      "cell_type": "markdown",
      "metadata": {
        "id": "IhlKxwDrpQG2"
      },
      "source": [
        "##*Production Graphs*\r\n",
        "--------------------------------------------------------------------------------\r\n",
        "*Crop Production*"
      ]
    },
    {
      "cell_type": "code",
      "metadata": {
        "id": "gV7nuiHQpbhF"
      },
      "source": [
        "sns.lineplot(y=crops_df.dropna()['US.Crop.Pro.Value'], x = crops_df.dropna()['US.Crop.Pro.Year'])"
      ],
      "execution_count": null,
      "outputs": []
    },
    {
      "cell_type": "code",
      "metadata": {
        "id": "J8A8P9kB4BBJ"
      },
      "source": [
        "linegraph(crops_df.dropna()['US.Crop.Pro.Value'], crops_df.dropna()['US.Crop.Pro.Year'],crops_df.dropna()['C.Crop.Pro.Value'], crops_df.dropna()['C.Crop.Pro.Year'])"
      ],
      "execution_count": null,
      "outputs": []
    },
    {
      "cell_type": "markdown",
      "metadata": {
        "id": "K7aScDHOet0R"
      },
      "source": [
        "#***Crop Yield***\r\n",
        "--------------------------------------------------------------------------------\r\n",
        " Crop yields are the harvested production per unit of harvested area for crop products"
      ]
    },
    {
      "cell_type": "markdown",
      "metadata": {
        "id": "dxfnXPS4JAuq"
      },
      "source": [
        "##***Yields Data Frame***\r\n",
        "--------------------------------------------------------------------------------\r\n",
        "*Crop Yields*\r\n"
      ]
    },
    {
      "cell_type": "code",
      "metadata": {
        "id": "_KouR85rJHsS"
      },
      "source": [
        "descript_df(yields_df.dropna())"
      ],
      "execution_count": null,
      "outputs": []
    },
    {
      "cell_type": "code",
      "metadata": {
        "id": "lEHm1hOPJKGI"
      },
      "source": [
        "descript_col(yields.dropna()['US.Yield.Value'])"
      ],
      "execution_count": null,
      "outputs": []
    },
    {
      "cell_type": "code",
      "metadata": {
        "id": "UMrkUFpx74UP"
      },
      "source": [
        "descript_col(yields.dropna()['C.Yield.Value'])"
      ],
      "execution_count": null,
      "outputs": []
    },
    {
      "cell_type": "code",
      "metadata": {
        "id": "68ca1Uqc7-Y9"
      },
      "source": [
        "yields_df.dropna()"
      ],
      "execution_count": null,
      "outputs": []
    },
    {
      "cell_type": "markdown",
      "metadata": {
        "id": "2i5MLHyVe_bp"
      },
      "source": [
        "##*Results*"
      ]
    },
    {
      "cell_type": "code",
      "metadata": {
        "id": "NIiI5qECJhVo"
      },
      "source": [
        "test(yields_df.dropna()['US.Yield.Value'], yields_df.dropna()['C.Yield.Value'])"
      ],
      "execution_count": null,
      "outputs": []
    },
    {
      "cell_type": "markdown",
      "metadata": {
        "id": "n0MiqyPONB-Z"
      },
      "source": [
        "We Reject the null hypothesis. With a p-value less than .05, there is a signficant difference in the means."
      ]
    },
    {
      "cell_type": "code",
      "metadata": {
        "id": "1S--s9spJOSM"
      },
      "source": [
        "get_ci(yields_df.dropna()['US.Yield.Value'], yields_df.dropna()['C.Yield.Value'])"
      ],
      "execution_count": null,
      "outputs": []
    },
    {
      "cell_type": "markdown",
      "metadata": {
        "id": "pM261mx48Y5x"
      },
      "source": [
        "##*Crop Yield Graph*\r\n",
        "--------------------------------------------------------------------------------\r\n",
        "*Crop Yield*"
      ]
    },
    {
      "cell_type": "code",
      "metadata": {
        "id": "VqIfouGk8fRT"
      },
      "source": [
        "hisgraph(yields_df.dropna()['US.Yield.Value'])\r\n"
      ],
      "execution_count": null,
      "outputs": []
    },
    {
      "cell_type": "code",
      "metadata": {
        "id": "casW5UtW9GDM"
      },
      "source": [
        "hisgraph(yields_df.dropna()['C.Yield.Value'])"
      ],
      "execution_count": null,
      "outputs": []
    },
    {
      "cell_type": "code",
      "metadata": {
        "id": "kbypZQCuIBmD"
      },
      "source": [
        "linegraph(yields_df.dropna()['US.Yield.Value'], yields_df.dropna()['US.Yield.Year'], yields_df.dropna()['C.Yield.Value'], yields_df.dropna()['C.Yield.Year'])"
      ],
      "execution_count": null,
      "outputs": []
    },
    {
      "cell_type": "markdown",
      "metadata": {
        "id": "7Zz7VFnvfSHN"
      },
      "source": [
        "#***Producer Prices***\r\n",
        "--------------------------------------------------------------------------------\r\n",
        "Producer Prices vary. But the US see's a higher producer price than china does. The United States also has a higher cost than China does."
      ]
    },
    {
      "cell_type": "markdown",
      "metadata": {
        "id": "NP-CS_SrKbfM"
      },
      "source": [
        "## *Producer Prices*\r\n",
        "--------------------------------------------------------------------------------\r\n",
        "*Prices paid directly to the Farmer at the point of sale*"
      ]
    },
    {
      "cell_type": "code",
      "metadata": {
        "id": "0oaBqljiKZeW"
      },
      "source": [
        "descript_df(prices_df)"
      ],
      "execution_count": null,
      "outputs": []
    },
    {
      "cell_type": "code",
      "metadata": {
        "id": "VBFe6TM0KqMG"
      },
      "source": [
        "descript_col(prices_df['Value'])"
      ],
      "execution_count": null,
      "outputs": []
    },
    {
      "cell_type": "code",
      "metadata": {
        "id": "hcvsvDiS_2W8"
      },
      "source": [
        "descript_col(prices_df['C.Value.Pro.Prices'])"
      ],
      "execution_count": null,
      "outputs": []
    },
    {
      "cell_type": "code",
      "metadata": {
        "id": "5R-l9as5ACtR"
      },
      "source": [
        "prices.dropna()"
      ],
      "execution_count": null,
      "outputs": []
    },
    {
      "cell_type": "markdown",
      "metadata": {
        "id": "lFtwhpsaBy8F"
      },
      "source": [
        "##*Results*\r\n",
        "--------------------------------------------------------------------------------\r\n",
        "*Producer Prices*"
      ]
    },
    {
      "cell_type": "code",
      "metadata": {
        "id": "ECHp35CBB6hp"
      },
      "source": [
        "get_ci(prices_df['Value'],prices_df['C.Value.Pro.Prices'])"
      ],
      "execution_count": null,
      "outputs": []
    },
    {
      "cell_type": "code",
      "metadata": {
        "id": "Z7_g5L5nCJmL"
      },
      "source": [
        "test(prices_df.dropna()['Value'],prices_df.dropna()['C.Value.Pro.Prices'])"
      ],
      "execution_count": null,
      "outputs": []
    },
    {
      "cell_type": "markdown",
      "metadata": {
        "id": "oIC3_bcNFqce"
      },
      "source": [
        "##*Producer Prices Graph*\r\n",
        "--------------------------------------------------------------------------------\r\n",
        "*Producer Prices*"
      ]
    },
    {
      "cell_type": "code",
      "metadata": {
        "id": "lEZ730wqAIGt"
      },
      "source": [
        "sns.histplot(y = prices_df.dropna()['Value'], x = prices.dropna()['Year.Pro.Price.US'])\n",
        "sns.histplot(y = prices_df.dropna()['C.Value.Pro.Prices'], x = prices_df.dropna()['C.Year.Pro.Prices'])"
      ],
      "execution_count": null,
      "outputs": []
    },
    {
      "cell_type": "code",
      "metadata": {
        "id": "-Z2SXzrcBXuW"
      },
      "source": [
        "sns.lineplot(y = prices_df.dropna()['Value'], x = prices.dropna()['Year.Pro.Price.US'])\r\n",
        "sns.lineplot(y = prices_df.dropna()['C.Value.Pro.Prices'], x = prices_df.dropna()['C.Year.Pro.Prices'])"
      ],
      "execution_count": null,
      "outputs": []
    },
    {
      "cell_type": "markdown",
      "metadata": {
        "id": "BCNp3RpBfoSq"
      },
      "source": [
        "#***Milk Totals***\r\n",
        "--------------------------------------------------------------------------------\r\n",
        "Currently China ranks seecond in terms of global dairy sales revenue, after the United States of America and is forecasted to overtake the US by 2022."
      ]
    },
    {
      "cell_type": "markdown",
      "metadata": {
        "id": "GwfZZFzaQL9y"
      },
      "source": [
        "## *Milk*\r\n",
        "--------------------------------------------------------------------------------\r\n",
        "*Milk yield after being processed*"
      ]
    },
    {
      "cell_type": "code",
      "metadata": {
        "id": "L8AduOcJQXET"
      },
      "source": [
        "descript_df(milk_df)"
      ],
      "execution_count": null,
      "outputs": []
    },
    {
      "cell_type": "code",
      "metadata": {
        "id": "nNZaWB04QfA-"
      },
      "source": [
        "descript_col(milk_df.dropna()['Value.US.Milk'])"
      ],
      "execution_count": null,
      "outputs": []
    },
    {
      "cell_type": "code",
      "metadata": {
        "id": "xNBRFyR7QpXQ"
      },
      "source": [
        "descript_col(milk_df.dropna()['Value.Milk.China'])"
      ],
      "execution_count": null,
      "outputs": []
    },
    {
      "cell_type": "markdown",
      "metadata": {
        "id": "cQEPgIz5Qyp9"
      },
      "source": [
        "##*Milk Results*\r\n",
        "--------------------------------------------------------------------------------\r\n",
        "*Milk Data Frame*"
      ]
    },
    {
      "cell_type": "code",
      "metadata": {
        "id": "Kea0yRIP8i-j"
      },
      "source": [
        "test(milk_df.dropna()['Value.US.Milk'], milk_df.dropna()['Value.Milk.China'])"
      ],
      "execution_count": null,
      "outputs": []
    },
    {
      "cell_type": "markdown",
      "metadata": {
        "id": "E0HSLRpnOlba"
      },
      "source": [
        "We reject the null hypothesis, with a P-Value less than .05. We can expect to see even more extreme mean differences using the world's data."
      ]
    },
    {
      "cell_type": "code",
      "metadata": {
        "id": "wCAnGGmEQ5OX"
      },
      "source": [
        "get_ci(milk_df.dropna()['Value.US.Milk'], milk_df.dropna()['Value.Milk.China'])"
      ],
      "execution_count": null,
      "outputs": []
    },
    {
      "cell_type": "markdown",
      "metadata": {
        "id": "UWaPtlfsPBNn"
      },
      "source": [
        "## *Milk Graphs*"
      ]
    },
    {
      "cell_type": "code",
      "metadata": {
        "id": "8Cstk3crPGpG"
      },
      "source": [
        "linegraph(milk_df.dropna()['Value.US.Milk'],milk_df['Year.US.milk'], milk_df.dropna()['Value.Milk.China'],milk_df['Year.M.C'])"
      ],
      "execution_count": null,
      "outputs": []
    },
    {
      "cell_type": "markdown",
      "metadata": {
        "id": "nu427-4vYSfn"
      },
      "source": [
        "# Summary\r\n",
        "--------------------------------------------------------------------------------\r\n",
        " By analyzing the data for the top producing countries, we can see the difference in certain areas. But we can also see some areas appear to stay the same. \r\n",
        " As we already produce enough food for the projected estimates for the worlds growing population, I think that continuing with vertical farming is the way to go. From the analysis it shows that even though we are losing land our production is not decreasing, and that is due to vertical farming. So far, the agriculture industry has found ways to circumvent the loss of land. \r\n",
        "\r\n",
        " Part of the problem with our food supply, is related to waste. The United States alone, waste more food than what Africa imports each year. To help put that into perspective, it is between 30-40% of the US Food supply, which is 80 billion pounds of food and equates to $161 Billion dollars each year that is wasted.\r\n",
        "\r\n",
        "My recommendation are as follows, continue with vertical farming, as it can do nothing but help. Find ways to remedy the soil pollution, to reclaim some of our arable land. \r\n"
      ]
    }
  ]
}